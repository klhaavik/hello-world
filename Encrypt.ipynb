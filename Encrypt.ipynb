{
 "cells": [
  {
   "cell_type": "code",
   "execution_count": 8,
   "id": "23f834a0-8772-4356-b3ff-695ee37eb7ee",
   "metadata": {},
   "outputs": [
    {
     "name": "stdin",
     "output_type": "stream",
     "text": [
      "Please enter your name: Kai\n",
      "Please enter a positive integer 3\n"
     ]
    },
    {
     "name": "stdout",
     "output_type": "stream",
     "text": [
      "Encrypted name: Ndl\n"
     ]
    }
   ],
   "source": [
    "name = input(prompt=\"Please enter your name:\")\n",
    "shift = int(input(prompt=\"Please enter a positive integer\"))\n",
    "encrypted = \"\"\n",
    "for char in name:\n",
    "    encrypted += str(chr(ord(char) + shift))\n",
    "\n",
    "print(\"Encrypted name: \" + encrypted)"
   ]
  },
  {
   "cell_type": "code",
   "execution_count": null,
   "id": "57848ce3-3f05-4cc3-af45-5a9774ed105f",
   "metadata": {},
   "outputs": [],
   "source": []
  }
 ],
 "metadata": {
  "kernelspec": {
   "display_name": "Python 3 (ipykernel)",
   "language": "python",
   "name": "python3"
  },
  "language_info": {
   "codemirror_mode": {
    "name": "ipython",
    "version": 3
   },
   "file_extension": ".py",
   "mimetype": "text/x-python",
   "name": "python",
   "nbconvert_exporter": "python",
   "pygments_lexer": "ipython3",
   "version": "3.12.4"
  }
 },
 "nbformat": 4,
 "nbformat_minor": 5
}
